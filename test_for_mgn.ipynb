{
 "cells": [
  {
   "cell_type": "code",
   "execution_count": 1,
   "metadata": {},
   "outputs": [
    {
     "name": "stdout",
     "output_type": "stream",
     "text": [
      "Loaded compiled 3D CUDA chamfer distance\n"
     ]
    }
   ],
   "source": [
    "from easydict import EasyDict\n",
    "import model.MGN.MGN_model as model\n",
    "import torch\n",
    "\n",
    "# 需要的超参\n",
    "opt = {\"bottleneck_size\": 1024,\n",
    "            \"number_points\": 2562,\n",
    "            \"hidden_neurons\": 512,\n",
    "            \"num_layers\": 2,\n",
    "            \"activation\" : \"relu\",\n",
    "            \"subnetworks\": 2,\n",
    "            \"face_samples\": 1}\n",
    "opt = EasyDict(opt)\n",
    "if torch.cuda.is_available():\n",
    "    opt.device = torch.device(f\"cuda\")\n",
    "else:\n",
    "    opt.device = torch.device(f\"cpu\")\n",
    "\n",
    "\n",
    "mod = model.EncoderDecoder(opt)\n",
    "Loss = mod.build_loss()"
   ]
  },
  {
   "cell_type": "code",
   "execution_count": null,
   "metadata": {},
   "outputs": [],
   "source": [
    "# 生成mesh\n",
    "epochs = 1\n",
    "with torch.no_grad():\n",
    "    for epoch in range(epochs):\n",
    "        img = torch.abs(torch.FloatTensor(torch.randn((1,3,224,224)))).to(opt.device)\n",
    "        # reconstructed_point_cloud = mod.generate_mesh(img)\n",
    "        mesh = mod.generate_mesh(img)"
   ]
  },
  {
   "cell_type": "code",
   "execution_count": null,
   "metadata": {},
   "outputs": [],
   "source": [
    "# 计算loss\n",
    "epochs = 1\n",
    "for epoch in range(epochs):\n",
    "    img = torch.FloatTensor(torch.randn((4,3,224,224))).to(opt.device)\n",
    "    point_cloud= torch.FloatTensor(torch.randn((4,2562,3))).to(opt.device)\n",
    "    reconstructed_point_cloud = mod(img)\n",
    "    loss = Loss(reconstructed_point_cloud, point_cloud)\n",
    "    print(loss)"
   ]
  }
 ],
 "metadata": {
  "kernelspec": {
   "display_name": "Python 3.7.13 ('env1')",
   "language": "python",
   "name": "python3"
  },
  "language_info": {
   "codemirror_mode": {
    "name": "ipython",
    "version": 3
   },
   "file_extension": ".py",
   "mimetype": "text/x-python",
   "name": "python",
   "nbconvert_exporter": "python",
   "pygments_lexer": "ipython3",
   "version": "3.7.13"
  },
  "orig_nbformat": 4,
  "vscode": {
   "interpreter": {
    "hash": "bc8c60f99e2e962c0e4a3e9c9f27c1bb5f2a586f6d03b97348d9b6648bd2cf92"
   }
  }
 },
 "nbformat": 4,
 "nbformat_minor": 2
}
